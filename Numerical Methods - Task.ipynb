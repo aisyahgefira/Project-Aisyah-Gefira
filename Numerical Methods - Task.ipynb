{
 "cells": [
  {
   "cell_type": "markdown",
   "metadata": {},
   "source": [
    "Aisyah Gefira (2006572945)\n",
    "Statistika 2020\n",
    "Kelas Metnum D\n",
    "\n",
    "Program ini adalah program untuk print input suatu fungsi dari user.\n",
    "Idenya adalah menyimpan input fungsi ke dalam 'formula' lalu nilai yang tersimpan akan dilakukan beberapa perintah (langkah metode newton) sehingga menghasilkan suatu nilai.\n",
    "Input yang dilakukan yaitu fungsi yang ingin diaproksimasikan akarnya, titik awal (𝑝0), dan toleransi aproksimasi.\n",
    "Output yang diinginkan adalah akar dari fungsi yang diinput.\n",
    "Algoritmanya:\n",
    "1. input fungsi\n",
    "2. definisikan turunan fungsi\n",
    "3. Jalankan program newton\n",
    "4. print akar fungsinya\n",
    "\n",
    "Input : formula (input fungsi), starting_point (input titik awal iterasi), tolerance (input nilai toleransi); \n",
    "Output : akar dari persamaan f(x) dengan memanggil format(formula,akar_fungsi) yang sudah didefinisikan sebelumnya"
   ]
  },
  {
   "cell_type": "code",
   "execution_count": 2,
   "metadata": {},
   "outputs": [
    {
     "name": "stdout",
     "output_type": "stream",
     "text": [
      "Masukkan formula fungsi: log(x-1)+cos(x-1)-0.2\n",
      "Masukkan titik awal iterasi : 2.5\n",
      "Masukkan toleransi aproksimasi : 0.00001\n",
      "Akar dari persamaan f(x) = log(x-1)+cos(x-1)-0.2 adalah x = 3.1998763840778\n"
     ]
    }
   ],
   "source": [
    "import numpy as np   #memanggil numpy\n",
    "\n",
    "from numpy import sin, cos, log   #memanggil beberapa fungsi yang dibutuhkan dari numpy\n",
    "\n",
    "formula = input('Masukkan formula fungsi: ')   #menginput fungsi dan menyimpannya sebagai formula\n",
    "\n",
    "def f(x):                    #agar fungsi terbaca sebagai function\n",
    "    return eval (formula)\n",
    "\n",
    "def df(x,h=10**-12):         #fungsi yang diinput diturunkan menggunakan definisi turunan     \n",
    "    return (f(x+h)-f(x))/h\n",
    "\n",
    "def Newton(p0,tolerance):     #masuk ke program Newton #menggunakan argumen titik awal dan nilai toleransi\n",
    "    p = p0 - (f(p0)/df(p0))   #memasukkan iterasinya\n",
    "    abs_error = abs(p-p0)     #mengubah absolute error\n",
    "    p0 = p                    #mengubah p0\n",
    "    while abs_error >= tolerance:   #mendefinisikan absolute error\n",
    "        p = p0 - (f(p0)/df(p0))\n",
    "        abs_error = abs(p-p0)\n",
    "        p0 = p\n",
    "    return p\n",
    "\n",
    "starting_point = eval(input('Masukkan titik awal iterasi : '))   #menginput titik awal iterasi lalu disimpan sebagai starting_point\n",
    "tolerance = eval(input('Masukkan toleransi aproksimasi : '))   #menginput nilai toleransi aproksimasi lalu disimpan sebagai tolerance\n",
    "\n",
    "akar_fungsi = Newton(starting_point,tolerance)   #memanggil starting_point dan tolerance dalam satu perintah akar_fungsi\n",
    "\n",
    "print('Akar dari persamaan f(x) = {0} adalah x = {1:.13f}'.format(formula,akar_fungsi))   #print output dengan format fungsi yang sudah didefinisikan sebelumnya"
   ]
  },
  {
   "cell_type": "code",
   "execution_count": null,
   "metadata": {},
   "outputs": [],
   "source": []
  }
 ],
 "metadata": {
  "kernelspec": {
   "display_name": "Python 3",
   "language": "python",
   "name": "python3"
  },
  "language_info": {
   "codemirror_mode": {
    "name": "ipython",
    "version": 3
   },
   "file_extension": ".py",
   "mimetype": "text/x-python",
   "name": "python",
   "nbconvert_exporter": "python",
   "pygments_lexer": "ipython3",
   "version": "3.8.3"
  }
 },
 "nbformat": 4,
 "nbformat_minor": 4
}
