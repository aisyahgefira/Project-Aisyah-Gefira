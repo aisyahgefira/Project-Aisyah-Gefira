{
  "nbformat": 4,
  "nbformat_minor": 0,
  "metadata": {
    "colab": {
      "name": "Untitled4.ipynb",
      "provenance": []
    },
    "kernelspec": {
      "name": "python3",
      "display_name": "Python 3"
    }
  },
  "cells": [
    {
      "cell_type": "code",
      "metadata": {
        "id": "Rj7yVtCTGSOC",
        "outputId": "2c180806-0dc3-41eb-f543-0a1feb2263cd",
        "colab": {
          "base_uri": "https://localhost:8080/"
        }
      },
      "source": [
        "a = 'Selamat datang di database mahasiswa Departemen Matematika FMIPA UI'\n",
        "b = '1. Untuk melihat isi database'\n",
        "c = '2. Untuk menambahkan data'\n",
        "d = '3. Untuk menghentikan program'\n",
        "\n",
        "print(a)\n",
        "print(b)\n",
        "print(c)\n",
        "print(d)\n",
        "\n",
        "pilihan = input('masukan pilihan anda: ')\n",
        "nama = input('masukan nama: ')\n",
        "npm = input('masukan npm: ')\n",
        "\n",
        "print(b)\n",
        "print(c)\n",
        "print(d)\n",
        " \n",
        "pilihan = input('masukan pilihan anda: ')\n",
        "nama = input('masukan nama: ')\n",
        "npm = input('masukan npm: ')\n",
        "\n",
        "print(b)\n",
        "print(c)\n",
        "print(d)\n",
        "\n",
        "pilihan = input('masukan pilihan anda: ')\n",
        "\n",
        "e = 'Berikut adalah Nama dan NPM mahasiswa Departemen Matematika FMIPA UI'\n",
        "f = '1 A Life Alva Permana 1706031550'\n",
        "g = '2 Alvan Subakti 1706031821'\n",
        "\n",
        "print(e)\n",
        "print(f)\n",
        "print(g)\n",
        "\n",
        "pilihan = input('masukan pilihan anda: ')\n"
      ],
      "execution_count": 10,
      "outputs": [
        {
          "output_type": "stream",
          "text": [
            "Selamat datang di database mahasiswa Departemen Matematika FMIPA UI\n",
            "1. Untuk melihat isi database\n",
            "2. Untuk menambahkan data\n",
            "3. Untuk menghentikan program\n",
            "masukan pilihan anda: 2\n",
            "masukan nama: A Life Alva Permana\n",
            "masukan npm: 1706021550\n",
            "1. Untuk melihat isi database\n",
            "2. Untuk menambahkan data\n",
            "3. Untuk menghentikan program\n",
            "masukan pilihan anda: 2\n",
            "masukan nama: Alvin Subakti\n",
            "masukan npm: 1706031821\n",
            "1. Untuk melihat isi database\n",
            "2. Untuk menambahkan data\n",
            "3. Untuk menghentikan program\n",
            "masukan pilihan anda: 1\n",
            "Berikut adalah Nama dan NPM mahasiswa Departemen Matematika FMIPA UI\n",
            "1 A Life Alva Permana 1706031550\n",
            "Alvan Subakti 1706031821\n",
            "masukan pilihan anda: 3\n"
          ],
          "name": "stdout"
        }
      ]
    },
    {
      "cell_type": "code",
      "metadata": {
        "id": "0cUq_Ph9MBWt"
      },
      "source": [
        ""
      ],
      "execution_count": null,
      "outputs": []
    }
  ]
}