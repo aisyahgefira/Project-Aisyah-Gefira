{
  "nbformat": 4,
  "nbformat_minor": 0,
  "metadata": {
    "colab": {
      "name": "TUGAS EDA KELOMPOK C.ipynb",
      "provenance": [],
      "collapsed_sections": [],
      "toc_visible": true
    },
    "kernelspec": {
      "name": "python3",
      "display_name": "Python 3"
    },
    "language_info": {
      "name": "python"
    }
  },
  "cells": [
    {
      "cell_type": "markdown",
      "metadata": {
        "id": "vsiaMgD-jF-C"
      },
      "source": [
        "#TUGAS 1"
      ]
    },
    {
      "cell_type": "code",
      "metadata": {
        "id": "K0tXV3ypgzbX"
      },
      "source": [
        "import pandas as pd, matplotlib.pyplot as plt, seaborn as sns, numpy as np\n",
        "from pandas import read_csv"
      ],
      "execution_count": null,
      "outputs": []
    },
    {
      "cell_type": "code",
      "metadata": {
        "id": "60FIymASjkO_"
      },
      "source": [
        "try:\n",
        "    data_harga = pd.read_csv('data/price.csv')\n",
        "except:\n",
        "    !mkdir data\n",
        "    !wget -P data/ https://raw.githubusercontent.com/taudata-indonesia/eLearning/master/data/price.csv\n",
        "    data_harga = pd.read_csv('data/price.csv')"
      ],
      "execution_count": null,
      "outputs": []
    },
    {
      "cell_type": "code",
      "metadata": {
        "colab": {
          "base_uri": "https://localhost:8080/",
          "height": 408
        },
        "id": "GLgelA7ljpyE",
        "outputId": "dadcac02-d041-4e61-87e3-60ac26043e47"
      },
      "source": [
        "data_harga"
      ],
      "execution_count": null,
      "outputs": [
        {
          "output_type": "execute_result",
          "data": {
            "text/html": [
              "<div>\n",
              "<style scoped>\n",
              "    .dataframe tbody tr th:only-of-type {\n",
              "        vertical-align: middle;\n",
              "    }\n",
              "\n",
              "    .dataframe tbody tr th {\n",
              "        vertical-align: top;\n",
              "    }\n",
              "\n",
              "    .dataframe thead th {\n",
              "        text-align: right;\n",
              "    }\n",
              "</style>\n",
              "<table border=\"1\" class=\"dataframe\">\n",
              "  <thead>\n",
              "    <tr style=\"text-align: right;\">\n",
              "      <th></th>\n",
              "      <th>Observation</th>\n",
              "      <th>Dist_Taxi</th>\n",
              "      <th>Dist_Market</th>\n",
              "      <th>Dist_Hospital</th>\n",
              "      <th>Carpet</th>\n",
              "      <th>Builtup</th>\n",
              "      <th>Parking</th>\n",
              "      <th>City_Category</th>\n",
              "      <th>Rainfall</th>\n",
              "      <th>House_Price</th>\n",
              "    </tr>\n",
              "  </thead>\n",
              "  <tbody>\n",
              "    <tr>\n",
              "      <th>0</th>\n",
              "      <td>1</td>\n",
              "      <td>9796.0</td>\n",
              "      <td>5250.0</td>\n",
              "      <td>10703.0</td>\n",
              "      <td>1659.0</td>\n",
              "      <td>1961.0</td>\n",
              "      <td>Open</td>\n",
              "      <td>CAT B</td>\n",
              "      <td>530</td>\n",
              "      <td>6649000</td>\n",
              "    </tr>\n",
              "    <tr>\n",
              "      <th>1</th>\n",
              "      <td>2</td>\n",
              "      <td>8294.0</td>\n",
              "      <td>8186.0</td>\n",
              "      <td>12694.0</td>\n",
              "      <td>1461.0</td>\n",
              "      <td>1752.0</td>\n",
              "      <td>Not Provided</td>\n",
              "      <td>CAT B</td>\n",
              "      <td>210</td>\n",
              "      <td>3982000</td>\n",
              "    </tr>\n",
              "    <tr>\n",
              "      <th>2</th>\n",
              "      <td>3</td>\n",
              "      <td>11001.0</td>\n",
              "      <td>14399.0</td>\n",
              "      <td>16991.0</td>\n",
              "      <td>1340.0</td>\n",
              "      <td>1609.0</td>\n",
              "      <td>Not Provided</td>\n",
              "      <td>CAT A</td>\n",
              "      <td>720</td>\n",
              "      <td>5401000</td>\n",
              "    </tr>\n",
              "    <tr>\n",
              "      <th>3</th>\n",
              "      <td>4</td>\n",
              "      <td>8301.0</td>\n",
              "      <td>11188.0</td>\n",
              "      <td>12289.0</td>\n",
              "      <td>1451.0</td>\n",
              "      <td>1748.0</td>\n",
              "      <td>Covered</td>\n",
              "      <td>CAT B</td>\n",
              "      <td>620</td>\n",
              "      <td>5373000</td>\n",
              "    </tr>\n",
              "    <tr>\n",
              "      <th>4</th>\n",
              "      <td>5</td>\n",
              "      <td>10510.0</td>\n",
              "      <td>12629.0</td>\n",
              "      <td>13921.0</td>\n",
              "      <td>1770.0</td>\n",
              "      <td>2111.0</td>\n",
              "      <td>Not Provided</td>\n",
              "      <td>CAT B</td>\n",
              "      <td>450</td>\n",
              "      <td>4662000</td>\n",
              "    </tr>\n",
              "    <tr>\n",
              "      <th>...</th>\n",
              "      <td>...</td>\n",
              "      <td>...</td>\n",
              "      <td>...</td>\n",
              "      <td>...</td>\n",
              "      <td>...</td>\n",
              "      <td>...</td>\n",
              "      <td>...</td>\n",
              "      <td>...</td>\n",
              "      <td>...</td>\n",
              "      <td>...</td>\n",
              "    </tr>\n",
              "    <tr>\n",
              "      <th>931</th>\n",
              "      <td>932</td>\n",
              "      <td>9297.0</td>\n",
              "      <td>12537.0</td>\n",
              "      <td>14418.0</td>\n",
              "      <td>1174.0</td>\n",
              "      <td>1429.0</td>\n",
              "      <td>Covered</td>\n",
              "      <td>CAT C</td>\n",
              "      <td>1110</td>\n",
              "      <td>5434000</td>\n",
              "    </tr>\n",
              "    <tr>\n",
              "      <th>932</th>\n",
              "      <td>933</td>\n",
              "      <td>10915.0</td>\n",
              "      <td>17486.0</td>\n",
              "      <td>15964.0</td>\n",
              "      <td>1549.0</td>\n",
              "      <td>1851.0</td>\n",
              "      <td>Not Provided</td>\n",
              "      <td>CAT C</td>\n",
              "      <td>1220</td>\n",
              "      <td>7062000</td>\n",
              "    </tr>\n",
              "    <tr>\n",
              "      <th>933</th>\n",
              "      <td>934</td>\n",
              "      <td>9205.0</td>\n",
              "      <td>10418.0</td>\n",
              "      <td>14496.0</td>\n",
              "      <td>1118.0</td>\n",
              "      <td>1337.0</td>\n",
              "      <td>Open</td>\n",
              "      <td>CAT A</td>\n",
              "      <td>560</td>\n",
              "      <td>7227000</td>\n",
              "    </tr>\n",
              "    <tr>\n",
              "      <th>934</th>\n",
              "      <td>935</td>\n",
              "      <td>10915.0</td>\n",
              "      <td>17486.0</td>\n",
              "      <td>15964.0</td>\n",
              "      <td>1549.0</td>\n",
              "      <td>1851.0</td>\n",
              "      <td>Not Provided</td>\n",
              "      <td>CAT C</td>\n",
              "      <td>1220</td>\n",
              "      <td>7062000</td>\n",
              "    </tr>\n",
              "    <tr>\n",
              "      <th>935</th>\n",
              "      <td>936</td>\n",
              "      <td>10915.0</td>\n",
              "      <td>17486.0</td>\n",
              "      <td>15964.0</td>\n",
              "      <td>1549.0</td>\n",
              "      <td>1851.0</td>\n",
              "      <td>Not Provided</td>\n",
              "      <td>CAT C</td>\n",
              "      <td>1220</td>\n",
              "      <td>7062000</td>\n",
              "    </tr>\n",
              "  </tbody>\n",
              "</table>\n",
              "<p>936 rows × 10 columns</p>\n",
              "</div>"
            ],
            "text/plain": [
              "     Observation  Dist_Taxi  Dist_Market  ...  City_Category  Rainfall  House_Price\n",
              "0              1     9796.0       5250.0  ...          CAT B       530      6649000\n",
              "1              2     8294.0       8186.0  ...          CAT B       210      3982000\n",
              "2              3    11001.0      14399.0  ...          CAT A       720      5401000\n",
              "3              4     8301.0      11188.0  ...          CAT B       620      5373000\n",
              "4              5    10510.0      12629.0  ...          CAT B       450      4662000\n",
              "..           ...        ...          ...  ...            ...       ...          ...\n",
              "931          932     9297.0      12537.0  ...          CAT C      1110      5434000\n",
              "932          933    10915.0      17486.0  ...          CAT C      1220      7062000\n",
              "933          934     9205.0      10418.0  ...          CAT A       560      7227000\n",
              "934          935    10915.0      17486.0  ...          CAT C      1220      7062000\n",
              "935          936    10915.0      17486.0  ...          CAT C      1220      7062000\n",
              "\n",
              "[936 rows x 10 columns]"
            ]
          },
          "metadata": {
            "tags": []
          },
          "execution_count": 3
        }
      ]
    },
    {
      "cell_type": "code",
      "metadata": {
        "colab": {
          "base_uri": "https://localhost:8080/"
        },
        "id": "fOsIJtmujudd",
        "outputId": "cc4c31c3-90d2-469f-ddd9-0a50c33b364f"
      },
      "source": [
        "q1 = data_harga['House_Price'].quantile(0.25)\n",
        "q3 = data_harga['House_Price'].quantile(0.75)\n",
        "jarak_q = q3 - q1\n",
        "print('q1 = ', q1,', q3 = ', q3,', jarak_q = ',jarak_q)\n",
        "batas_bawah = q1 - 1.5*jarak_q\n",
        "batas_atas = q3 + 1.5*jarak_q\n",
        "print('batas_bawah = ',batas_bawah,', batas_atas = ',batas_atas)"
      ],
      "execution_count": null,
      "outputs": [
        {
          "output_type": "stream",
          "text": [
            "q1 =  4661000.0 , q3 =  7187250.0 , jarak_q =  2526250.0\n",
            "batas_bawah =  871625.0 , batas_atas =  10976625.0\n"
          ],
          "name": "stdout"
        }
      ]
    },
    {
      "cell_type": "code",
      "metadata": {
        "colab": {
          "base_uri": "https://localhost:8080/",
          "height": 138
        },
        "id": "0p7mSXOKjzJN",
        "outputId": "ad1d49d0-9208-4227-9385-2956435f8a39"
      },
      "source": [
        "outliers = data_harga[(data_harga.House_Price<batas_bawah)|(data_harga.House_Price>batas_atas)]\n",
        "outliers"
      ],
      "execution_count": null,
      "outputs": [
        {
          "output_type": "execute_result",
          "data": {
            "text/html": [
              "<div>\n",
              "<style scoped>\n",
              "    .dataframe tbody tr th:only-of-type {\n",
              "        vertical-align: middle;\n",
              "    }\n",
              "\n",
              "    .dataframe tbody tr th {\n",
              "        vertical-align: top;\n",
              "    }\n",
              "\n",
              "    .dataframe thead th {\n",
              "        text-align: right;\n",
              "    }\n",
              "</style>\n",
              "<table border=\"1\" class=\"dataframe\">\n",
              "  <thead>\n",
              "    <tr style=\"text-align: right;\">\n",
              "      <th></th>\n",
              "      <th>Observation</th>\n",
              "      <th>Dist_Taxi</th>\n",
              "      <th>Dist_Market</th>\n",
              "      <th>Dist_Hospital</th>\n",
              "      <th>Carpet</th>\n",
              "      <th>Builtup</th>\n",
              "      <th>Parking</th>\n",
              "      <th>City_Category</th>\n",
              "      <th>Rainfall</th>\n",
              "      <th>House_Price</th>\n",
              "    </tr>\n",
              "  </thead>\n",
              "  <tbody>\n",
              "    <tr>\n",
              "      <th>360</th>\n",
              "      <td>361</td>\n",
              "      <td>20662.0</td>\n",
              "      <td>20945.0</td>\n",
              "      <td>23294.0</td>\n",
              "      <td>24300.0</td>\n",
              "      <td>12730.0</td>\n",
              "      <td>Covered</td>\n",
              "      <td>CAT B</td>\n",
              "      <td>1130</td>\n",
              "      <td>150000000</td>\n",
              "    </tr>\n",
              "    <tr>\n",
              "      <th>678</th>\n",
              "      <td>679</td>\n",
              "      <td>7288.0</td>\n",
              "      <td>9560.0</td>\n",
              "      <td>12531.0</td>\n",
              "      <td>1989.0</td>\n",
              "      <td>2414.0</td>\n",
              "      <td>No Parking</td>\n",
              "      <td>CAT A</td>\n",
              "      <td>860</td>\n",
              "      <td>11632000</td>\n",
              "    </tr>\n",
              "    <tr>\n",
              "      <th>811</th>\n",
              "      <td>812</td>\n",
              "      <td>NaN</td>\n",
              "      <td>NaN</td>\n",
              "      <td>NaN</td>\n",
              "      <td>NaN</td>\n",
              "      <td>NaN</td>\n",
              "      <td>Open</td>\n",
              "      <td>CAT A</td>\n",
              "      <td>440</td>\n",
              "      <td>30000</td>\n",
              "    </tr>\n",
              "  </tbody>\n",
              "</table>\n",
              "</div>"
            ],
            "text/plain": [
              "     Observation  Dist_Taxi  Dist_Market  ...  City_Category  Rainfall  House_Price\n",
              "360          361    20662.0      20945.0  ...          CAT B      1130    150000000\n",
              "678          679     7288.0       9560.0  ...          CAT A       860     11632000\n",
              "811          812        NaN          NaN  ...          CAT A       440        30000\n",
              "\n",
              "[3 rows x 10 columns]"
            ]
          },
          "metadata": {
            "tags": []
          },
          "execution_count": 5
        }
      ]
    },
    {
      "cell_type": "code",
      "metadata": {
        "colab": {
          "base_uri": "https://localhost:8080/",
          "height": 408
        },
        "id": "2TlvM6ANj3H9",
        "outputId": "5f29d2bb-e3db-494a-8f21-9751bd2f310b"
      },
      "source": [
        "data_tanpa_outliers = data_harga[(data_harga.House_Price>batas_bawah)&(data_harga.House_Price<batas_atas)]\n",
        "data_tanpa_outliers"
      ],
      "execution_count": null,
      "outputs": [
        {
          "output_type": "execute_result",
          "data": {
            "text/html": [
              "<div>\n",
              "<style scoped>\n",
              "    .dataframe tbody tr th:only-of-type {\n",
              "        vertical-align: middle;\n",
              "    }\n",
              "\n",
              "    .dataframe tbody tr th {\n",
              "        vertical-align: top;\n",
              "    }\n",
              "\n",
              "    .dataframe thead th {\n",
              "        text-align: right;\n",
              "    }\n",
              "</style>\n",
              "<table border=\"1\" class=\"dataframe\">\n",
              "  <thead>\n",
              "    <tr style=\"text-align: right;\">\n",
              "      <th></th>\n",
              "      <th>Observation</th>\n",
              "      <th>Dist_Taxi</th>\n",
              "      <th>Dist_Market</th>\n",
              "      <th>Dist_Hospital</th>\n",
              "      <th>Carpet</th>\n",
              "      <th>Builtup</th>\n",
              "      <th>Parking</th>\n",
              "      <th>City_Category</th>\n",
              "      <th>Rainfall</th>\n",
              "      <th>House_Price</th>\n",
              "    </tr>\n",
              "  </thead>\n",
              "  <tbody>\n",
              "    <tr>\n",
              "      <th>0</th>\n",
              "      <td>1</td>\n",
              "      <td>9796.0</td>\n",
              "      <td>5250.0</td>\n",
              "      <td>10703.0</td>\n",
              "      <td>1659.0</td>\n",
              "      <td>1961.0</td>\n",
              "      <td>Open</td>\n",
              "      <td>CAT B</td>\n",
              "      <td>530</td>\n",
              "      <td>6649000</td>\n",
              "    </tr>\n",
              "    <tr>\n",
              "      <th>1</th>\n",
              "      <td>2</td>\n",
              "      <td>8294.0</td>\n",
              "      <td>8186.0</td>\n",
              "      <td>12694.0</td>\n",
              "      <td>1461.0</td>\n",
              "      <td>1752.0</td>\n",
              "      <td>Not Provided</td>\n",
              "      <td>CAT B</td>\n",
              "      <td>210</td>\n",
              "      <td>3982000</td>\n",
              "    </tr>\n",
              "    <tr>\n",
              "      <th>2</th>\n",
              "      <td>3</td>\n",
              "      <td>11001.0</td>\n",
              "      <td>14399.0</td>\n",
              "      <td>16991.0</td>\n",
              "      <td>1340.0</td>\n",
              "      <td>1609.0</td>\n",
              "      <td>Not Provided</td>\n",
              "      <td>CAT A</td>\n",
              "      <td>720</td>\n",
              "      <td>5401000</td>\n",
              "    </tr>\n",
              "    <tr>\n",
              "      <th>3</th>\n",
              "      <td>4</td>\n",
              "      <td>8301.0</td>\n",
              "      <td>11188.0</td>\n",
              "      <td>12289.0</td>\n",
              "      <td>1451.0</td>\n",
              "      <td>1748.0</td>\n",
              "      <td>Covered</td>\n",
              "      <td>CAT B</td>\n",
              "      <td>620</td>\n",
              "      <td>5373000</td>\n",
              "    </tr>\n",
              "    <tr>\n",
              "      <th>4</th>\n",
              "      <td>5</td>\n",
              "      <td>10510.0</td>\n",
              "      <td>12629.0</td>\n",
              "      <td>13921.0</td>\n",
              "      <td>1770.0</td>\n",
              "      <td>2111.0</td>\n",
              "      <td>Not Provided</td>\n",
              "      <td>CAT B</td>\n",
              "      <td>450</td>\n",
              "      <td>4662000</td>\n",
              "    </tr>\n",
              "    <tr>\n",
              "      <th>...</th>\n",
              "      <td>...</td>\n",
              "      <td>...</td>\n",
              "      <td>...</td>\n",
              "      <td>...</td>\n",
              "      <td>...</td>\n",
              "      <td>...</td>\n",
              "      <td>...</td>\n",
              "      <td>...</td>\n",
              "      <td>...</td>\n",
              "      <td>...</td>\n",
              "    </tr>\n",
              "    <tr>\n",
              "      <th>931</th>\n",
              "      <td>932</td>\n",
              "      <td>9297.0</td>\n",
              "      <td>12537.0</td>\n",
              "      <td>14418.0</td>\n",
              "      <td>1174.0</td>\n",
              "      <td>1429.0</td>\n",
              "      <td>Covered</td>\n",
              "      <td>CAT C</td>\n",
              "      <td>1110</td>\n",
              "      <td>5434000</td>\n",
              "    </tr>\n",
              "    <tr>\n",
              "      <th>932</th>\n",
              "      <td>933</td>\n",
              "      <td>10915.0</td>\n",
              "      <td>17486.0</td>\n",
              "      <td>15964.0</td>\n",
              "      <td>1549.0</td>\n",
              "      <td>1851.0</td>\n",
              "      <td>Not Provided</td>\n",
              "      <td>CAT C</td>\n",
              "      <td>1220</td>\n",
              "      <td>7062000</td>\n",
              "    </tr>\n",
              "    <tr>\n",
              "      <th>933</th>\n",
              "      <td>934</td>\n",
              "      <td>9205.0</td>\n",
              "      <td>10418.0</td>\n",
              "      <td>14496.0</td>\n",
              "      <td>1118.0</td>\n",
              "      <td>1337.0</td>\n",
              "      <td>Open</td>\n",
              "      <td>CAT A</td>\n",
              "      <td>560</td>\n",
              "      <td>7227000</td>\n",
              "    </tr>\n",
              "    <tr>\n",
              "      <th>934</th>\n",
              "      <td>935</td>\n",
              "      <td>10915.0</td>\n",
              "      <td>17486.0</td>\n",
              "      <td>15964.0</td>\n",
              "      <td>1549.0</td>\n",
              "      <td>1851.0</td>\n",
              "      <td>Not Provided</td>\n",
              "      <td>CAT C</td>\n",
              "      <td>1220</td>\n",
              "      <td>7062000</td>\n",
              "    </tr>\n",
              "    <tr>\n",
              "      <th>935</th>\n",
              "      <td>936</td>\n",
              "      <td>10915.0</td>\n",
              "      <td>17486.0</td>\n",
              "      <td>15964.0</td>\n",
              "      <td>1549.0</td>\n",
              "      <td>1851.0</td>\n",
              "      <td>Not Provided</td>\n",
              "      <td>CAT C</td>\n",
              "      <td>1220</td>\n",
              "      <td>7062000</td>\n",
              "    </tr>\n",
              "  </tbody>\n",
              "</table>\n",
              "<p>933 rows × 10 columns</p>\n",
              "</div>"
            ],
            "text/plain": [
              "     Observation  Dist_Taxi  Dist_Market  ...  City_Category  Rainfall  House_Price\n",
              "0              1     9796.0       5250.0  ...          CAT B       530      6649000\n",
              "1              2     8294.0       8186.0  ...          CAT B       210      3982000\n",
              "2              3    11001.0      14399.0  ...          CAT A       720      5401000\n",
              "3              4     8301.0      11188.0  ...          CAT B       620      5373000\n",
              "4              5    10510.0      12629.0  ...          CAT B       450      4662000\n",
              "..           ...        ...          ...  ...            ...       ...          ...\n",
              "931          932     9297.0      12537.0  ...          CAT C      1110      5434000\n",
              "932          933    10915.0      17486.0  ...          CAT C      1220      7062000\n",
              "933          934     9205.0      10418.0  ...          CAT A       560      7227000\n",
              "934          935    10915.0      17486.0  ...          CAT C      1220      7062000\n",
              "935          936    10915.0      17486.0  ...          CAT C      1220      7062000\n",
              "\n",
              "[933 rows x 10 columns]"
            ]
          },
          "metadata": {
            "tags": []
          },
          "execution_count": 6
        }
      ]
    },
    {
      "cell_type": "code",
      "metadata": {
        "colab": {
          "base_uri": "https://localhost:8080/",
          "height": 280
        },
        "id": "q4AAzsuqkTYr",
        "outputId": "ad076a62-9bc4-49a2-a3a4-4ff5a0e9864c"
      },
      "source": [
        "p = sns.boxplot(x=\"House_Price\", y=\"Parking\", data=data_harga)"
      ],
      "execution_count": null,
      "outputs": [
        {
          "output_type": "display_data",
          "data": {
            "image/png": "[encoded data removed]",
            "text/plain": [
              "<Figure size 432x288 with 1 Axes>"
            ]
          },
          "metadata": {
            "tags": [],
            "needs_background": "light"
          }
        }
      ]
    },
    {
      "cell_type": "code",
      "metadata": {
        "colab": {
          "base_uri": "https://localhost:8080/",
          "height": 280
        },
        "id": "S-wDsHozj5kd",
        "outputId": "218c749b-adce-4e8e-8c84-a371de5ce4ce"
      },
      "source": [
        "p = sns.boxplot(x=\"House_Price\", y=\"Parking\", data=data_tanpa_outliers)"
      ],
      "execution_count": null,
      "outputs": [
        {
          "output_type": "display_data",
          "data": {
            "image/png": "[encoded data removed]",
            "text/plain": [
              "<Figure size 432x288 with 1 Axes>"
            ]
          },
          "metadata": {
            "tags": [],
            "needs_background": "light"
          }
        }
      ]
    },
    {
      "cell_type": "markdown",
      "metadata": {
        "id": "U7gk-5k6j-OD"
      },
      "source": [
        "#TUGAS 2"
      ]
    },
    {
      "cell_type": "markdown",
      "metadata": {
        "id": "m394fK26tzUp"
      },
      "source": [
        "**Bagaimana mengeluarkan semua outlier bawah dari BoxPlot?**"
      ]
    },
    {
      "cell_type": "code",
      "metadata": {
        "id": "SvdO8aBVulut"
      },
      "source": [
        "try:\n",
        "    price = pd.read_csv('data/price.csv')\n",
        "except:\n",
        "    !mkdir data\n",
        "    !wget -P data/ https://raw.githubusercontent.com/taudata-indonesia/eLearning/master/data/price.csv\n",
        "    price = pd.read_csv('data/price.csv')"
      ],
      "execution_count": null,
      "outputs": []
    },
    {
      "cell_type": "code",
      "metadata": {
        "colab": {
          "base_uri": "https://localhost:8080/",
          "height": 419
        },
        "id": "7nCdHemVutmX",
        "outputId": "fa64afb6-3c74-4edb-fd87-9d0a42d94abc"
      },
      "source": [
        "price"
      ],
      "execution_count": null,
      "outputs": [
        {
          "output_type": "execute_result",
          "data": {
            "text/html": [
              "<div>\n",
              "<style scoped>\n",
              "    .dataframe tbody tr th:only-of-type {\n",
              "        vertical-align: middle;\n",
              "    }\n",
              "\n",
              "    .dataframe tbody tr th {\n",
              "        vertical-align: top;\n",
              "    }\n",
              "\n",
              "    .dataframe thead th {\n",
              "        text-align: right;\n",
              "    }\n",
              "</style>\n",
              "<table border=\"1\" class=\"dataframe\">\n",
              "  <thead>\n",
              "    <tr style=\"text-align: right;\">\n",
              "      <th></th>\n",
              "      <th>Observation</th>\n",
              "      <th>Dist_Taxi</th>\n",
              "      <th>Dist_Market</th>\n",
              "      <th>Dist_Hospital</th>\n",
              "      <th>Carpet</th>\n",
              "      <th>Builtup</th>\n",
              "      <th>Parking</th>\n",
              "      <th>City_Category</th>\n",
              "      <th>Rainfall</th>\n",
              "      <th>House_Price</th>\n",
              "    </tr>\n",
              "  </thead>\n",
              "  <tbody>\n",
              "    <tr>\n",
              "      <th>0</th>\n",
              "      <td>1</td>\n",
              "      <td>9796.0</td>\n",
              "      <td>5250.0</td>\n",
              "      <td>10703.0</td>\n",
              "      <td>1659.0</td>\n",
              "      <td>1961.0</td>\n",
              "      <td>Open</td>\n",
              "      <td>CAT B</td>\n",
              "      <td>530</td>\n",
              "      <td>6649000</td>\n",
              "    </tr>\n",
              "    <tr>\n",
              "      <th>1</th>\n",
              "      <td>2</td>\n",
              "      <td>8294.0</td>\n",
              "      <td>8186.0</td>\n",
              "      <td>12694.0</td>\n",
              "      <td>1461.0</td>\n",
              "      <td>1752.0</td>\n",
              "      <td>Not Provided</td>\n",
              "      <td>CAT B</td>\n",
              "      <td>210</td>\n",
              "      <td>3982000</td>\n",
              "    </tr>\n",
              "    <tr>\n",
              "      <th>2</th>\n",
              "      <td>3</td>\n",
              "      <td>11001.0</td>\n",
              "      <td>14399.0</td>\n",
              "      <td>16991.0</td>\n",
              "      <td>1340.0</td>\n",
              "      <td>1609.0</td>\n",
              "      <td>Not Provided</td>\n",
              "      <td>CAT A</td>\n",
              "      <td>720</td>\n",
              "      <td>5401000</td>\n",
              "    </tr>\n",
              "    <tr>\n",
              "      <th>3</th>\n",
              "      <td>4</td>\n",
              "      <td>8301.0</td>\n",
              "      <td>11188.0</td>\n",
              "      <td>12289.0</td>\n",
              "      <td>1451.0</td>\n",
              "      <td>1748.0</td>\n",
              "      <td>Covered</td>\n",
              "      <td>CAT B</td>\n",
              "      <td>620</td>\n",
              "      <td>5373000</td>\n",
              "    </tr>\n",
              "    <tr>\n",
              "      <th>4</th>\n",
              "      <td>5</td>\n",
              "      <td>10510.0</td>\n",
              "      <td>12629.0</td>\n",
              "      <td>13921.0</td>\n",
              "      <td>1770.0</td>\n",
              "      <td>2111.0</td>\n",
              "      <td>Not Provided</td>\n",
              "      <td>CAT B</td>\n",
              "      <td>450</td>\n",
              "      <td>4662000</td>\n",
              "    </tr>\n",
              "    <tr>\n",
              "      <th>...</th>\n",
              "      <td>...</td>\n",
              "      <td>...</td>\n",
              "      <td>...</td>\n",
              "      <td>...</td>\n",
              "      <td>...</td>\n",
              "      <td>...</td>\n",
              "      <td>...</td>\n",
              "      <td>...</td>\n",
              "      <td>...</td>\n",
              "      <td>...</td>\n",
              "    </tr>\n",
              "    <tr>\n",
              "      <th>931</th>\n",
              "      <td>932</td>\n",
              "      <td>9297.0</td>\n",
              "      <td>12537.0</td>\n",
              "      <td>14418.0</td>\n",
              "      <td>1174.0</td>\n",
              "      <td>1429.0</td>\n",
              "      <td>Covered</td>\n",
              "      <td>CAT C</td>\n",
              "      <td>1110</td>\n",
              "      <td>5434000</td>\n",
              "    </tr>\n",
              "    <tr>\n",
              "      <th>932</th>\n",
              "      <td>933</td>\n",
              "      <td>10915.0</td>\n",
              "      <td>17486.0</td>\n",
              "      <td>15964.0</td>\n",
              "      <td>1549.0</td>\n",
              "      <td>1851.0</td>\n",
              "      <td>Not Provided</td>\n",
              "      <td>CAT C</td>\n",
              "      <td>1220</td>\n",
              "      <td>7062000</td>\n",
              "    </tr>\n",
              "    <tr>\n",
              "      <th>933</th>\n",
              "      <td>934</td>\n",
              "      <td>9205.0</td>\n",
              "      <td>10418.0</td>\n",
              "      <td>14496.0</td>\n",
              "      <td>1118.0</td>\n",
              "      <td>1337.0</td>\n",
              "      <td>Open</td>\n",
              "      <td>CAT A</td>\n",
              "      <td>560</td>\n",
              "      <td>7227000</td>\n",
              "    </tr>\n",
              "    <tr>\n",
              "      <th>934</th>\n",
              "      <td>935</td>\n",
              "      <td>10915.0</td>\n",
              "      <td>17486.0</td>\n",
              "      <td>15964.0</td>\n",
              "      <td>1549.0</td>\n",
              "      <td>1851.0</td>\n",
              "      <td>Not Provided</td>\n",
              "      <td>CAT C</td>\n",
              "      <td>1220</td>\n",
              "      <td>7062000</td>\n",
              "    </tr>\n",
              "    <tr>\n",
              "      <th>935</th>\n",
              "      <td>936</td>\n",
              "      <td>10915.0</td>\n",
              "      <td>17486.0</td>\n",
              "      <td>15964.0</td>\n",
              "      <td>1549.0</td>\n",
              "      <td>1851.0</td>\n",
              "      <td>Not Provided</td>\n",
              "      <td>CAT C</td>\n",
              "      <td>1220</td>\n",
              "      <td>7062000</td>\n",
              "    </tr>\n",
              "  </tbody>\n",
              "</table>\n",
              "<p>936 rows × 10 columns</p>\n",
              "</div>"
            ],
            "text/plain": [
              "     Observation  Dist_Taxi  Dist_Market  ...  City_Category  Rainfall  House_Price\n",
              "0              1     9796.0       5250.0  ...          CAT B       530      6649000\n",
              "1              2     8294.0       8186.0  ...          CAT B       210      3982000\n",
              "2              3    11001.0      14399.0  ...          CAT A       720      5401000\n",
              "3              4     8301.0      11188.0  ...          CAT B       620      5373000\n",
              "4              5    10510.0      12629.0  ...          CAT B       450      4662000\n",
              "..           ...        ...          ...  ...            ...       ...          ...\n",
              "931          932     9297.0      12537.0  ...          CAT C      1110      5434000\n",
              "932          933    10915.0      17486.0  ...          CAT C      1220      7062000\n",
              "933          934     9205.0      10418.0  ...          CAT A       560      7227000\n",
              "934          935    10915.0      17486.0  ...          CAT C      1220      7062000\n",
              "935          936    10915.0      17486.0  ...          CAT C      1220      7062000\n",
              "\n",
              "[936 rows x 10 columns]"
            ]
          },
          "metadata": {
            "tags": []
          },
          "execution_count": 10
        }
      ]
    },
    {
      "cell_type": "code",
      "metadata": {
        "colab": {
          "base_uri": "https://localhost:8080/",
          "height": 280
        },
        "id": "l4Nld-ufux7U",
        "outputId": "9815ba6f-c599-4883-a77e-ec10cd2dd4c8"
      },
      "source": [
        "p = sns.boxplot(x=\"House_Price\", y=\"Parking\", data=price) #Terdapat outlier"
      ],
      "execution_count": null,
      "outputs": [
        {
          "output_type": "display_data",
          "data": {
            "image/png": "[encoded data removed]",
            "text/plain": [
              "<Figure size 432x288 with 1 Axes>"
            ]
          },
          "metadata": {
            "tags": [],
            "needs_background": "light"
          }
        }
      ]
    },
    {
      "cell_type": "code",
      "metadata": {
        "id": "OUuczCDsuyOe"
      },
      "source": [
        "Q1 = price['House_Price'].quantile(0.25)\n",
        "Q3 = price['House_Price'].quantile(0.75)\n",
        "IQR = Q3 - Q1 #IQR (Inter Quartile Range)\n",
        "Lower_Extreme = Q1 - 1.5*IQR\n",
        "Upper_Extreme = Q3 + 1.5*IQR"
      ],
      "execution_count": null,
      "outputs": []
    },
    {
      "cell_type": "code",
      "metadata": {
        "id": "EHo5ixtNwYuI"
      },
      "source": [
        "#Mengeluarkan outlier bawah \n",
        "price2 = price[price.House_Price>Lower_Extreme] #price2 = tanpa outlier bawah"
      ],
      "execution_count": null,
      "outputs": []
    },
    {
      "cell_type": "code",
      "metadata": {
        "colab": {
          "base_uri": "https://localhost:8080/",
          "height": 280
        },
        "id": "WtW88jt3waWQ",
        "outputId": "e9dc4454-bf26-4bd1-f5fa-8368bfd8f85e"
      },
      "source": [
        "p = sns.boxplot(x=\"House_Price\", y=\"Parking\", data=price2)"
      ],
      "execution_count": null,
      "outputs": [
        {
          "output_type": "display_data",
          "data": {
            "image/png": "[encoded data removed]",
            "text/plain": [
              "<Figure size 432x288 with 1 Axes>"
            ]
          },
          "metadata": {
            "tags": [],
            "needs_background": "light"
          }
        }
      ]
    },
    {
      "cell_type": "markdown",
      "metadata": {
        "id": "gIjQBsBbkDrU"
      },
      "source": [
        "#TUGAS 3"
      ]
    },
    {
      "cell_type": "markdown",
      "metadata": {
        "id": "3O_yrNfUm8LB"
      },
      "source": [
        "**1. Adakah tipe variabel yang kurang tepat di data tersebut?**"
      ]
    },
    {
      "cell_type": "markdown",
      "metadata": {
        "id": "GpgkkQKWmDwV"
      },
      "source": [
        "\n",
        "Ya, ada. Variabel sex, smoker, day, dan time memiliki tipe variabel object yang mana tidak cocok dengan isi variabelnya yang berupa teks sehingga harus diubah menjadi variabel category."
      ]
    },
    {
      "cell_type": "code",
      "metadata": {
        "id": "oVbznItI5_u2"
      },
      "source": [
        "import pandas as pd\n",
        "import scipy, itertools\n",
        "import matplotlib.pyplot as plt\n",
        "import seaborn as sns\n",
        "import numpy as np\n",
        "from scipy import stats\n",
        "from sklearn.preprocessing import StandardScaler, MinMaxScaler\n",
        "\n",
        "plt.style.use('bmh'); sns.set()"
      ],
      "execution_count": null,
      "outputs": []
    },
    {
      "cell_type": "code",
      "metadata": {
        "colab": {
          "base_uri": "https://localhost:8080/"
        },
        "id": "CD-kXgRHkjeV",
        "outputId": "43dce55d-185e-4259-8248-593622434c60"
      },
      "source": [
        "path = \"sample_data/tips.csv\"\n",
        "tips = pd.read_csv(path)\n",
        "tips.info()                #terlihat variabel sex, smoker, day, time memiliki tipe object"
      ],
      "execution_count": null,
      "outputs": [
        {
          "output_type": "stream",
          "text": [
            "<class 'pandas.core.frame.DataFrame'>\n",
            "RangeIndex: 244 entries, 0 to 243\n",
            "Data columns (total 7 columns):\n",
            " #   Column      Non-Null Count  Dtype  \n",
            "---  ------      --------------  -----  \n",
            " 0   total_bill  244 non-null    float64\n",
            " 1   tip         244 non-null    float64\n",
            " 2   sex         244 non-null    object \n",
            " 3   smoker      244 non-null    object \n",
            " 4   day         244 non-null    object \n",
            " 5   time        244 non-null    object \n",
            " 6   size        244 non-null    int64  \n",
            "dtypes: float64(2), int64(1), object(4)\n",
            "memory usage: 13.5+ KB\n"
          ],
          "name": "stdout"
        }
      ]
    },
    {
      "cell_type": "code",
      "metadata": {
        "colab": {
          "base_uri": "https://localhost:8080/"
        },
        "id": "CyI1tTwPlmlT",
        "outputId": "68faea92-9f63-4374-a6d2-304fc8597a6c"
      },
      "source": [
        "tips['sex'] = tips['sex'].astype('category')\n",
        "tips['smoker'] = tips['smoker'].astype('category')\n",
        "tips['day'] = tips['day'].astype('category')\n",
        "tips['time'] = tips['time'].astype('category')\n",
        "tips.dtypes                 #variabel sex, smoker, day, time telah diubah menjadi tipe category"
      ],
      "execution_count": null,
      "outputs": [
        {
          "output_type": "execute_result",
          "data": {
            "text/plain": [
              "total_bill     float64\n",
              "tip            float64\n",
              "sex           category\n",
              "smoker        category\n",
              "day           category\n",
              "time          category\n",
              "size             int64\n",
              "dtype: object"
            ]
          },
          "metadata": {
            "tags": []
          },
          "execution_count": 6
        }
      ]
    },
    {
      "cell_type": "markdown",
      "metadata": {
        "id": "cHSrgZSwnjVN"
      },
      "source": [
        "**2. Apakah data numeriknya cenderung berdistribusi normal?**"
      ]
    },
    {
      "cell_type": "markdown",
      "metadata": {
        "id": "nwwv7xB1oEER"
      },
      "source": [
        "Tidak, data numeriknya tidak cenderung berdistribusi normal. Kurva dari distribusi normal memiliki ciri, yaitu terdapat satu puncak (uni-modal) dan berbentuk simetris (not skewed). Berdasarkan grafik kurva yang didapat, terlihat bahwa kurva tidak simetris, sehingga dapat disimpulkan bahwa kurba dari data numerik ini tidak berdistribusi normal."
      ]
    },
    {
      "cell_type": "code",
      "metadata": {
        "colab": {
          "base_uri": "https://localhost:8080/",
          "height": 204
        },
        "id": "GeYjiANgl-rv",
        "outputId": "205cfb85-343e-4167-ec71-ba0920c5d0f0"
      },
      "source": [
        "#Data Numerik\n",
        "tips_num = tips.select_dtypes(include = ['float64', 'int64'])\n",
        "tips_num.head()"
      ],
      "execution_count": null,
      "outputs": [
        {
          "output_type": "execute_result",
          "data": {
            "text/html": [
              "<div>\n",
              "<style scoped>\n",
              "    .dataframe tbody tr th:only-of-type {\n",
              "        vertical-align: middle;\n",
              "    }\n",
              "\n",
              "    .dataframe tbody tr th {\n",
              "        vertical-align: top;\n",
              "    }\n",
              "\n",
              "    .dataframe thead th {\n",
              "        text-align: right;\n",
              "    }\n",
              "</style>\n",
              "<table border=\"1\" class=\"dataframe\">\n",
              "  <thead>\n",
              "    <tr style=\"text-align: right;\">\n",
              "      <th></th>\n",
              "      <th>total_bill</th>\n",
              "      <th>tip</th>\n",
              "      <th>size</th>\n",
              "    </tr>\n",
              "  </thead>\n",
              "  <tbody>\n",
              "    <tr>\n",
              "      <th>0</th>\n",
              "      <td>16.99</td>\n",
              "      <td>1.01</td>\n",
              "      <td>2</td>\n",
              "    </tr>\n",
              "    <tr>\n",
              "      <th>1</th>\n",
              "      <td>10.34</td>\n",
              "      <td>1.66</td>\n",
              "      <td>3</td>\n",
              "    </tr>\n",
              "    <tr>\n",
              "      <th>2</th>\n",
              "      <td>21.01</td>\n",
              "      <td>3.50</td>\n",
              "      <td>3</td>\n",
              "    </tr>\n",
              "    <tr>\n",
              "      <th>3</th>\n",
              "      <td>23.68</td>\n",
              "      <td>3.31</td>\n",
              "      <td>2</td>\n",
              "    </tr>\n",
              "    <tr>\n",
              "      <th>4</th>\n",
              "      <td>24.59</td>\n",
              "      <td>3.61</td>\n",
              "      <td>4</td>\n",
              "    </tr>\n",
              "  </tbody>\n",
              "</table>\n",
              "</div>"
            ],
            "text/plain": [
              "   total_bill   tip  size\n",
              "0       16.99  1.01     2\n",
              "1       10.34  1.66     3\n",
              "2       21.01  3.50     3\n",
              "3       23.68  3.31     2\n",
              "4       24.59  3.61     4"
            ]
          },
          "metadata": {
            "tags": []
          },
          "execution_count": 7
        }
      ]
    },
    {
      "cell_type": "code",
      "metadata": {
        "colab": {
          "base_uri": "https://localhost:8080/",
          "height": 373
        },
        "id": "khEDPcv8nxq0",
        "outputId": "474b7b09-bf1b-47b0-9a12-0ba7e65789b5"
      },
      "source": [
        "#Kurva total_bill terlihat tidak simetris (miring kanan)\n",
        "p = sns.distplot(tips['total_bill'], kde=True, rug=True)"
      ],
      "execution_count": null,
      "outputs": [
        {
          "output_type": "stream",
          "text": [
            "/usr/local/lib/python3.7/dist-packages/seaborn/distributions.py:2557: FutureWarning: `distplot` is a deprecated function and will be removed in a future version. Please adapt your code to use either `displot` (a figure-level function with similar flexibility) or `histplot` (an axes-level function for histograms).\n",
            "  warnings.warn(msg, FutureWarning)\n",
            "/usr/local/lib/python3.7/dist-packages/seaborn/distributions.py:2056: FutureWarning: The `axis` variable is no longer used and will be removed. Instead, assign variables directly to `x` or `y`.\n",
            "  warnings.warn(msg, FutureWarning)\n"
          ],
          "name": "stderr"
        },
        {
          "output_type": "display_data",
          "data": {
            "image/png": "[encoded data removed]",
            "text/plain": [
              "<Figure size 432x288 with 1 Axes>"
            ]
          },
          "metadata": {
            "tags": []
          }
        }
      ]
    },
    {
      "cell_type": "code",
      "metadata": {
        "colab": {
          "base_uri": "https://localhost:8080/",
          "height": 373
        },
        "id": "yaLkDrNKn2wq",
        "outputId": "b8bca812-7ccd-4c05-918c-cfe2e60a99d8"
      },
      "source": [
        "#Kurva tip tidak simetris dan tidak memiliki lengkung puncak sempurna\n",
        "q = sns.distplot(tips['tip'], kde=True, rug=True)"
      ],
      "execution_count": null,
      "outputs": [
        {
          "output_type": "stream",
          "text": [
            "/usr/local/lib/python3.7/dist-packages/seaborn/distributions.py:2557: FutureWarning: `distplot` is a deprecated function and will be removed in a future version. Please adapt your code to use either `displot` (a figure-level function with similar flexibility) or `histplot` (an axes-level function for histograms).\n",
            "  warnings.warn(msg, FutureWarning)\n",
            "/usr/local/lib/python3.7/dist-packages/seaborn/distributions.py:2056: FutureWarning: The `axis` variable is no longer used and will be removed. Instead, assign variables directly to `x` or `y`.\n",
            "  warnings.warn(msg, FutureWarning)\n"
          ],
          "name": "stderr"
        },
        {
          "output_type": "display_data",
          "data": {
            "image/png": "[encoded data removed]",
            "text/plain": [
              "<Figure size 432x288 with 1 Axes>"
            ]
          },
          "metadata": {
            "tags": []
          }
        }
      ]
    },
    {
      "cell_type": "code",
      "metadata": {
        "colab": {
          "base_uri": "https://localhost:8080/",
          "height": 373
        },
        "id": "glbZN5dfn7Be",
        "outputId": "2819f863-d7ab-4293-a23c-0ddc30b91cab"
      },
      "source": [
        "#Kurva size memiliki banyak puncak\n",
        "r = sns.distplot(tips['size'], kde=True, rug=True)"
      ],
      "execution_count": null,
      "outputs": [
        {
          "output_type": "stream",
          "text": [
            "/usr/local/lib/python3.7/dist-packages/seaborn/distributions.py:2557: FutureWarning: `distplot` is a deprecated function and will be removed in a future version. Please adapt your code to use either `displot` (a figure-level function with similar flexibility) or `histplot` (an axes-level function for histograms).\n",
            "  warnings.warn(msg, FutureWarning)\n",
            "/usr/local/lib/python3.7/dist-packages/seaborn/distributions.py:2056: FutureWarning: The `axis` variable is no longer used and will be removed. Instead, assign variables directly to `x` or `y`.\n",
            "  warnings.warn(msg, FutureWarning)\n"
          ],
          "name": "stderr"
        },
        {
          "output_type": "display_data",
          "data": {
            "image/png": "[encoded data removed]",
            "text/plain": [
              "<Figure size 432x288 with 1 Axes>"
            ]
          },
          "metadata": {
            "tags": []
          }
        }
      ]
    },
    {
      "cell_type": "markdown",
      "metadata": {
        "id": "INZ0NV7rpw6B"
      },
      "source": [
        "**3. Apakah ada outlier, noise, missing values, dan-atau duplikasi data?**"
      ]
    },
    {
      "cell_type": "markdown",
      "metadata": {
        "id": "yRf8Gi7ap5qJ"
      },
      "source": [
        "Ya, berdasarkan penelusuran ditemukan adanya outlier dan duplikasi data.\n",
        "\n",
        "*   Noise: Tidak ditemukan noise data (tidak ada nilai minus, dan lainnya)\n",
        "*   Duplicate: Ditemukan 1 duplikasi data\n",
        "*   Missing value: Tidak ditemukan missing value (null nya 0)\n",
        "*   Outlier: Ditemukan adanya outlier data\n",
        "\n",
        "\n",
        "\n"
      ]
    },
    {
      "cell_type": "code",
      "metadata": {
        "colab": {
          "base_uri": "https://localhost:8080/",
          "height": 390
        },
        "id": "F7nLe3mpyht2",
        "outputId": "999704ac-3108-4568-e1b4-1b68a6a57c13"
      },
      "source": [
        "#cek noise data\n",
        "tips.describe(include='all')  #terlihat bahwa tidak ada data noise"
      ],
      "execution_count": null,
      "outputs": [
        {
          "output_type": "execute_result",
          "data": {
            "text/html": [
              "<div>\n",
              "<style scoped>\n",
              "    .dataframe tbody tr th:only-of-type {\n",
              "        vertical-align: middle;\n",
              "    }\n",
              "\n",
              "    .dataframe tbody tr th {\n",
              "        vertical-align: top;\n",
              "    }\n",
              "\n",
              "    .dataframe thead th {\n",
              "        text-align: right;\n",
              "    }\n",
              "</style>\n",
              "<table border=\"1\" class=\"dataframe\">\n",
              "  <thead>\n",
              "    <tr style=\"text-align: right;\">\n",
              "      <th></th>\n",
              "      <th>total_bill</th>\n",
              "      <th>tip</th>\n",
              "      <th>sex</th>\n",
              "      <th>smoker</th>\n",
              "      <th>day</th>\n",
              "      <th>time</th>\n",
              "      <th>size</th>\n",
              "    </tr>\n",
              "  </thead>\n",
              "  <tbody>\n",
              "    <tr>\n",
              "      <th>count</th>\n",
              "      <td>244.000000</td>\n",
              "      <td>244.000000</td>\n",
              "      <td>244</td>\n",
              "      <td>244</td>\n",
              "      <td>244</td>\n",
              "      <td>244</td>\n",
              "      <td>244.000000</td>\n",
              "    </tr>\n",
              "    <tr>\n",
              "      <th>unique</th>\n",
              "      <td>NaN</td>\n",
              "      <td>NaN</td>\n",
              "      <td>2</td>\n",
              "      <td>2</td>\n",
              "      <td>4</td>\n",
              "      <td>2</td>\n",
              "      <td>NaN</td>\n",
              "    </tr>\n",
              "    <tr>\n",
              "      <th>top</th>\n",
              "      <td>NaN</td>\n",
              "      <td>NaN</td>\n",
              "      <td>Male</td>\n",
              "      <td>No</td>\n",
              "      <td>Sat</td>\n",
              "      <td>Dinner</td>\n",
              "      <td>NaN</td>\n",
              "    </tr>\n",
              "    <tr>\n",
              "      <th>freq</th>\n",
              "      <td>NaN</td>\n",
              "      <td>NaN</td>\n",
              "      <td>157</td>\n",
              "      <td>151</td>\n",
              "      <td>87</td>\n",
              "      <td>176</td>\n",
              "      <td>NaN</td>\n",
              "    </tr>\n",
              "    <tr>\n",
              "      <th>mean</th>\n",
              "      <td>19.785943</td>\n",
              "      <td>2.998279</td>\n",
              "      <td>NaN</td>\n",
              "      <td>NaN</td>\n",
              "      <td>NaN</td>\n",
              "      <td>NaN</td>\n",
              "      <td>2.569672</td>\n",
              "    </tr>\n",
              "    <tr>\n",
              "      <th>std</th>\n",
              "      <td>8.902412</td>\n",
              "      <td>1.383638</td>\n",
              "      <td>NaN</td>\n",
              "      <td>NaN</td>\n",
              "      <td>NaN</td>\n",
              "      <td>NaN</td>\n",
              "      <td>0.951100</td>\n",
              "    </tr>\n",
              "    <tr>\n",
              "      <th>min</th>\n",
              "      <td>3.070000</td>\n",
              "      <td>1.000000</td>\n",
              "      <td>NaN</td>\n",
              "      <td>NaN</td>\n",
              "      <td>NaN</td>\n",
              "      <td>NaN</td>\n",
              "      <td>1.000000</td>\n",
              "    </tr>\n",
              "    <tr>\n",
              "      <th>25%</th>\n",
              "      <td>13.347500</td>\n",
              "      <td>2.000000</td>\n",
              "      <td>NaN</td>\n",
              "      <td>NaN</td>\n",
              "      <td>NaN</td>\n",
              "      <td>NaN</td>\n",
              "      <td>2.000000</td>\n",
              "    </tr>\n",
              "    <tr>\n",
              "      <th>50%</th>\n",
              "      <td>17.795000</td>\n",
              "      <td>2.900000</td>\n",
              "      <td>NaN</td>\n",
              "      <td>NaN</td>\n",
              "      <td>NaN</td>\n",
              "      <td>NaN</td>\n",
              "      <td>2.000000</td>\n",
              "    </tr>\n",
              "    <tr>\n",
              "      <th>75%</th>\n",
              "      <td>24.127500</td>\n",
              "      <td>3.562500</td>\n",
              "      <td>NaN</td>\n",
              "      <td>NaN</td>\n",
              "      <td>NaN</td>\n",
              "      <td>NaN</td>\n",
              "      <td>3.000000</td>\n",
              "    </tr>\n",
              "    <tr>\n",
              "      <th>max</th>\n",
              "      <td>50.810000</td>\n",
              "      <td>10.000000</td>\n",
              "      <td>NaN</td>\n",
              "      <td>NaN</td>\n",
              "      <td>NaN</td>\n",
              "      <td>NaN</td>\n",
              "      <td>6.000000</td>\n",
              "    </tr>\n",
              "  </tbody>\n",
              "</table>\n",
              "</div>"
            ],
            "text/plain": [
              "        total_bill         tip   sex smoker  day    time        size\n",
              "count   244.000000  244.000000   244    244  244     244  244.000000\n",
              "unique         NaN         NaN     2      2    4       2         NaN\n",
              "top            NaN         NaN  Male     No  Sat  Dinner         NaN\n",
              "freq           NaN         NaN   157    151   87     176         NaN\n",
              "mean     19.785943    2.998279   NaN    NaN  NaN     NaN    2.569672\n",
              "std       8.902412    1.383638   NaN    NaN  NaN     NaN    0.951100\n",
              "min       3.070000    1.000000   NaN    NaN  NaN     NaN    1.000000\n",
              "25%      13.347500    2.000000   NaN    NaN  NaN     NaN    2.000000\n",
              "50%      17.795000    2.900000   NaN    NaN  NaN     NaN    2.000000\n",
              "75%      24.127500    3.562500   NaN    NaN  NaN     NaN    3.000000\n",
              "max      50.810000   10.000000   NaN    NaN  NaN     NaN    6.000000"
            ]
          },
          "metadata": {
            "tags": []
          },
          "execution_count": 11
        }
      ]
    },
    {
      "cell_type": "code",
      "metadata": {
        "colab": {
          "base_uri": "https://localhost:8080/"
        },
        "id": "NSR3v55-uWlb",
        "outputId": "d6e90425-9be0-4431-902a-fc4f4a5c3d4a"
      },
      "source": [
        "#cek duplikasi data\n",
        "print(tips.shape)\n",
        "tips.duplicated().sum()   #terdapat 1 duplikasi data"
      ],
      "execution_count": null,
      "outputs": [
        {
          "output_type": "stream",
          "text": [
            "(244, 7)\n"
          ],
          "name": "stdout"
        },
        {
          "output_type": "execute_result",
          "data": {
            "text/plain": [
              "1"
            ]
          },
          "metadata": {
            "tags": []
          },
          "execution_count": 12
        }
      ]
    },
    {
      "cell_type": "code",
      "metadata": {
        "colab": {
          "base_uri": "https://localhost:8080/"
        },
        "id": "JE7hHqAyu10D",
        "outputId": "af9743eb-8230-42b1-b594-82c5ff7ca95e"
      },
      "source": [
        "#duplikasi data dihilangkan\n",
        "tips.drop_duplicates(inplace=True)   \n",
        "print(tips.duplicated().sum())\n",
        "print(tips.shape)          #duplikasi data telah dihilangkan"
      ],
      "execution_count": null,
      "outputs": [
        {
          "output_type": "stream",
          "text": [
            "0\n",
            "(243, 7)\n"
          ],
          "name": "stdout"
        }
      ]
    },
    {
      "cell_type": "code",
      "metadata": {
        "colab": {
          "base_uri": "https://localhost:8080/"
        },
        "id": "79pskX_TzLrJ",
        "outputId": "d8081abf-d454-47e8-b98c-4bbc05815bab"
      },
      "source": [
        "#cek missing value\n",
        "print(tips.isnull().sum())   #terlihat bahwa tidak ada missing value (null nya 0)"
      ],
      "execution_count": null,
      "outputs": [
        {
          "output_type": "stream",
          "text": [
            "total_bill    0\n",
            "tip           0\n",
            "sex           0\n",
            "smoker        0\n",
            "day           0\n",
            "time          0\n",
            "size          0\n",
            "dtype: int64\n"
          ],
          "name": "stdout"
        }
      ]
    },
    {
      "cell_type": "code",
      "metadata": {
        "colab": {
          "base_uri": "https://localhost:8080/"
        },
        "id": "emOvnHfkp7d6",
        "outputId": "290c12d4-cbe9-4bdb-f706-ccfe224a79c4"
      },
      "source": [
        "#cek outlier (total_bill)\n",
        "df = np.abs(tips.total_bill - tips.total_bill.mean())<=(2*tips.total_bill.std())\n",
        "df.head()\n",
        "\n",
        "tips2 = tips[df]    #tips2 adalah data tanpa outlier\n",
        "print(tips2.shape, tips.shape)  #terlihat bahwa terdapat outlier (kanan)"
      ],
      "execution_count": null,
      "outputs": [
        {
          "output_type": "stream",
          "text": [
            "(229, 7) (243, 7)\n"
          ],
          "name": "stdout"
        }
      ]
    },
    {
      "cell_type": "code",
      "metadata": {
        "colab": {
          "base_uri": "https://localhost:8080/"
        },
        "id": "T1mD3YTlrll6",
        "outputId": "5f00f889-9691-443e-854c-716780aefd06"
      },
      "source": [
        "#cek outlier (tip)\n",
        "df = np.abs(tips.tip - tips.tip.mean())<=(2*tips.tip.std())\n",
        "df.head()\n",
        "\n",
        "tips2 = tips[df]    #tips2 adalah data tanpa outlier\n",
        "print(tips2.shape, tips.shape)  #terlihat bahwa terdapat outlier (kanan)"
      ],
      "execution_count": null,
      "outputs": [
        {
          "output_type": "stream",
          "text": [
            "(233, 7) (243, 7)\n"
          ],
          "name": "stdout"
        }
      ]
    },
    {
      "cell_type": "code",
      "metadata": {
        "colab": {
          "base_uri": "https://localhost:8080/",
          "height": 302
        },
        "id": "-e_88kIK1fGm",
        "outputId": "bdfe4a87-b899-4b65-be15-68e2deee3614"
      },
      "source": [
        "#cek outlier dengan boxplot\n",
        "sns.boxplot (x='sex', y='tip', data=tips)  #terlihat bahwa ada outlier atas"
      ],
      "execution_count": null,
      "outputs": [
        {
          "output_type": "execute_result",
          "data": {
            "text/plain": [
              "<matplotlib.axes._subplots.AxesSubplot at 0x7f6ac4bd6910>"
            ]
          },
          "metadata": {
            "tags": []
          },
          "execution_count": 17
        },
        {
          "output_type": "display_data",
          "data": {
            "image/png": "[encoded data removed]",
            "text/plain": [
              "<Figure size 432x288 with 1 Axes>"
            ]
          },
          "metadata": {
            "tags": []
          }
        }
      ]
    },
    {
      "cell_type": "code",
      "metadata": {
        "colab": {
          "base_uri": "https://localhost:8080/",
          "height": 302
        },
        "id": "bAhcR9sx1_U5",
        "outputId": "d7d29c6d-526a-40c1-bb13-caed4ab02094"
      },
      "source": [
        "sns.boxplot (x='time', y='total_bill', data=tips)   #terlihat bahwa ada outlier atas"
      ],
      "execution_count": null,
      "outputs": [
        {
          "output_type": "execute_result",
          "data": {
            "text/plain": [
              "<matplotlib.axes._subplots.AxesSubplot at 0x7f6aba24be10>"
            ]
          },
          "metadata": {
            "tags": []
          },
          "execution_count": 18
        },
        {
          "output_type": "display_data",
          "data": {
            "image/png": "[encoded data removed]",
            "text/plain": [
              "<Figure size 432x288 with 1 Axes>"
            ]
          },
          "metadata": {
            "tags": []
          }
        }
      ]
    },
    {
      "cell_type": "markdown",
      "metadata": {
        "id": "vfmLFww8WdRP"
      },
      "source": [
        "**4. Apakah pelanggan pria dan wanita cenderung proporsional (balance)?**"
      ]
    },
    {
      "cell_type": "markdown",
      "metadata": {
        "id": "il4vQFL8WNML"
      },
      "source": [
        "Apabila dilihat pada data yang diberikan, jumlah pelanggan pria cenderung lebih banyak dibandingkan jumlah pelanggan wanita. Perbandingannya bernilai 64% untuk pelanggan pria dan 36% untuk pelanggan wanita. Maka, dapat disimpulkan bahwa jumlah pelanggan pria dan wanita tidak cenderung proporsional (balance)."
      ]
    },
    {
      "cell_type": "markdown",
      "metadata": {
        "id": "4EaRVlx0Wm2C"
      },
      "source": [
        "**5. Dari data yang ada apakah pria atau wanita ada kecenderungan memberi tips lebih besar?**"
      ]
    },
    {
      "cell_type": "markdown",
      "metadata": {
        "id": "rdf-nGL8WwbJ"
      },
      "source": [
        "Apabila dilihat pada data yang disuguhkan, untuk rata-rata pemberian tips yang diberikan oleh wanita adalah 2,84 USD dan untuk pria adalah 3,09 USD. Dapat disimpulkan bahwa adanya kecenderungan untuk pemberian tips oleh pembeli pria."
      ]
    },
    {
      "cell_type": "markdown",
      "metadata": {
        "id": "WqzAqG6FW2UL"
      },
      "source": [
        "**6. Dari data yang ada apakah ada kecenderungan tips lebih besar di hari-hari tertentu?**"
      ]
    },
    {
      "cell_type": "markdown",
      "metadata": {
        "id": "I0HjXFqyW7iM"
      },
      "source": [
        "Apabila dilihat pada data yang disuguhkan, ditemukan kecenderungan pada hari Sabtu dengan total tips yang diberikan adalah 260,4 USD dan pada hari Minggu sebesar 247,39 USD. Dapat disimpulkan kecenderungan pemberian tips yang lebih besar terjadi pada hari weekend."
      ]
    },
    {
      "cell_type": "markdown",
      "metadata": {
        "id": "QFUsahR-XCMu"
      },
      "source": [
        "**7. Dari data yang ada apakah customer perokok cenderung memberi tips lebih besar?**"
      ]
    },
    {
      "cell_type": "markdown",
      "metadata": {
        "id": "duFaQ6_nXIs3"
      },
      "source": [
        "Dilihat dari data yang disuguhkan dan setelah mengeluarkan rata-rata pemberian tips untuk pembeli non-smoker adalah 2,85 USD, sedangkan untuk rata-rata pemberian tips pembeli smoker adalah 2,83 USD. Pembeli keduanya tidak terlalu menunjukkan perbedaan yang signifikan untuk pemberian tips sehingga tidak dapat diberikan kesimpulan untuk kecenderungan pemberian tips."
      ]
    },
    {
      "cell_type": "markdown",
      "metadata": {
        "id": "2jCW04gyXNQs"
      },
      "source": [
        "**8. Apakah pola di nomor 5 dan 7 dipengaruhi hari?**"
      ]
    },
    {
      "cell_type": "markdown",
      "metadata": {
        "id": "nH5GR8xAXU5b"
      },
      "source": [
        "Untuk nomor 7, pembeli cenderung datang pada hari weekend. Sedangkan untuk nomor 5, pembeli perempuan cenderung datang pada hari Kamis, Sabtu, dan Minggu. Sedangkan pembeli pria cenderung datang pada hari Sabtu dan Minggu."
      ]
    },
    {
      "cell_type": "markdown",
      "metadata": {
        "id": "CEyTmVNhXWeI"
      },
      "source": [
        "**9. Pola apalagi yang dapat anda temukan? (misal, bisakah anda menyarankan tata letak kursi/meja restaurant dari data ini?)**"
      ]
    },
    {
      "cell_type": "markdown",
      "metadata": {
        "id": "eH7W2YbnXd0Z"
      },
      "source": [
        "Dari data pengunjung, beberapa pola yang dapat kami temukan adalah sebagai berikut.\n",
        "* Terlihat bahwa pengunjung non-smoker lebih banyak daripada pengunjung smoker. Oleh karena itu, kami menyarankan agar jumlah meja yang disediakan di indoor (untuk pengunjung non-smoker) lebih banyak dibandingkan jumlah meja yang ada di outdoor (untuk pengunjung smoker).\n",
        "* Terlihat bahwa rata-rata pemberian tips lebih besar terjadi pada weekend. Oleh karena itu, kami menyarankan agar lama waktu buka restoran lebih lama saat weekend dibandingkan saat weekdays."
      ]
    },
    {
      "cell_type": "markdown",
      "metadata": {
        "id": "MDwSmY1vXkq9"
      },
      "source": [
        "**10. Final question: dari hasil EDA anda saran apa saja yang akan anda berikan ke pemilik restaurant?**"
      ]
    },
    {
      "cell_type": "markdown",
      "metadata": {
        "id": "U3N0CfbJXqe4"
      },
      "source": [
        "Beberapa saran yang dapat kami berikan kepada pemilik adalah mengatur jumlah meja untuk indoor dan outdoor serta lama restoran buka saat weekend."
      ]
    },
    {
      "cell_type": "markdown",
      "metadata": {
        "id": "Yp_EKPBvXw0P"
      },
      "source": [
        "Kompetensi/skill yang diperlukan dari latihan ini adalah kemampuan mengolah serta menganalisis suatu data dengan baik yang kemudian akan diambil kesimpulannya secara sederhana serta dapat dipahami dengan baik untuk mengambil suatu keputusan."
      ]
    }
  ]
}